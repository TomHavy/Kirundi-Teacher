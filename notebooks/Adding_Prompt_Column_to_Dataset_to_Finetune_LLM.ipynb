{
  "nbformat": 4,
  "nbformat_minor": 0,
  "metadata": {
    "colab": {
      "provenance": [],
      "gpuType": "T4"
    },
    "kernelspec": {
      "name": "python3",
      "display_name": "Python 3"
    },
    "language_info": {
      "name": "python"
    },
    "accelerator": "GPU"
  },
  "cells": [
    {
      "cell_type": "code",
      "execution_count": 2,
      "metadata": {
        "colab": {
          "base_uri": "https://localhost:8080/"
        },
        "id": "LZbcFZZ-2AOp",
        "outputId": "eb35959c-8adb-4375-d0d2-f03d77708a58"
      },
      "outputs": [
        {
          "output_type": "stream",
          "name": "stdout",
          "text": [
            "                                        english_text  \\\n",
            "0  Hello, how are you? What have you been up to l...   \n",
            "1  I'm planning a trip to the mountains next weekend   \n",
            "2  She studied hard for her exams and passed all ...   \n",
            "3  We celebrated my grandmother's 80th birthday w...   \n",
            "4  The new restaurant in town has a diverse menu ...   \n",
            "\n",
            "                                 kirundi_translation  \\\n",
            "0                                                NaN   \n",
            "1  Ndi gukora ikiganiro cyo kugena imizinga vuba ...   \n",
            "2  Yarayibarutse cyane ku bizi byo gukwirakwiza n...   \n",
            "3  Dusaba impanuro ku myaka icumi n'ijana ya nyin...   \n",
            "4  Igihugu cya rusange c'ubushoramari kizaba kiko...   \n",
            "\n",
            "                                                text  \n",
            "0  Below is an instruction that describes a task,...  \n",
            "1  Below is an instruction that describes a task,...  \n",
            "2  Below is an instruction that describes a task,...  \n",
            "3  Below is an instruction that describes a task,...  \n",
            "4  Below is an instruction that describes a task,...  \n"
          ]
        }
      ],
      "source": [
        "import pandas as pd\n",
        "\n",
        "df = pd.read_csv(\"data/eng_to_kir.csv\",sep=\";\")\n",
        "\n",
        "text_col=  []\n",
        "\n",
        "for _, row in df.iterrows():\n",
        "  prompt=\"Below is an instruction that describes a task, paired with an input that provides further. Write a response that appropriately completes the request. \\n\\n\"\n",
        "  instruction=\"Translate the following text from english to Kirundi\"\n",
        "  input_query= str(row[\"english_text\"])\n",
        "  response = str(row[\"kirundi_translation\"])\n",
        "\n",
        "  text = prompt + \"### Instruction:\\n\" + instruction + \"\\n### Input:\\n\" + input_query + \"\\n###Response:\\n\" + response\n",
        "\n",
        "  text_col.append(text)\n",
        "\n",
        "df.loc[:,\"text\"]=text_col\n",
        "print(df.head())\n",
        "\n",
        "df.to_csv(\"train.csv\",index=False)"
      ]
    },
    {
      "cell_type": "code",
      "source": [
        "print(df[\"text\"][6])"
      ],
      "metadata": {
        "colab": {
          "base_uri": "https://localhost:8080/"
        },
        "id": "Nz7-D3c16ZT-",
        "outputId": "a3e1495f-4415-4264-aa22-c34bc03025c0"
      },
      "execution_count": 10,
      "outputs": [
        {
          "output_type": "stream",
          "name": "stdout",
          "text": [
            "Below is an instruction that describes a task, paired with an input that provides further. Write a response that appropriately completes the request. \n",
            "\n",
            "### Instruction:\n",
            "Translate the following text from english to Kirundi\n",
            "### Input:\n",
            "He used to live in the countryside, but now he enjoys the city life\n",
            "###Response:\n",
            "Nta mwanya wa cyendagare wari uyu munsi, ahubwo akayumba ku munsi mukuru.\n"
          ]
        }
      ]
    }
  ]
}